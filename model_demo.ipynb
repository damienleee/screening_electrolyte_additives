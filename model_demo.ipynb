{
 "cells": [
  {
   "cell_type": "markdown",
   "metadata": {},
   "source": [
    "# Usage of trained models for prediction of potential additive properties\n",
    "Import relevant libraries"
   ]
  },
  {
   "cell_type": "code",
   "execution_count": null,
   "metadata": {},
   "outputs": [],
   "source": [
    "from bayesian_optimization.MyGraphConvModel import MyGraphConvModel # customized GraphConvModel\n",
    "import deepchem as dc"
   ]
  },
  {
   "cell_type": "markdown",
   "metadata": {},
   "source": [
    "Restore models from curently saved folders"
   ]
  },
  {
   "cell_type": "code",
   "execution_count": null,
   "metadata": {},
   "outputs": [],
   "source": [
    "SEI_model = MyGraphConvModel(n_tasks=4, graph_conv_layers=[465, 465], dense_layers=[342, 342, 342], dropout=0.016595, \\\n",
    "learning_rate=0.0018738, uncertainty=True, model_dir=\"final_SEI_model\")\n",
    "SEI_model.restore()\n",
    "\n",
    "LL_model = MyGraphConvModel(n_tasks=4, graph_conv_layers=[545, 545], dense_layers=[562, 562, 562, 562], dropout=0.030050724302585315, \\\n",
    "learning_rate=0.0006959499230450821, uncertainty=True, model_dir=\"final_LL_model\")\n",
    "LL_model.restore()"
   ]
  },
  {
   "cell_type": "markdown",
   "metadata": {},
   "source": [
    "Use the models to make predictions"
   ]
  },
  {
   "cell_type": "code",
   "execution_count": null,
   "metadata": {},
   "outputs": [],
   "source": [
    "smiles = [\"FC(F)(F)C(=O)CC(=O)C(F)(F)F\", \"CS(=O)(=O)C\"]\n",
    "featurizer=dc.feat.ConvMolFeaturizer()\n",
    "loader = dc.data.InMemoryLoader(tasks=[None], featurizer=featurizer)\n",
    "dataset = loader.create_dataset(smiles)\n",
    "predictions, uncertainty = SEI_model.predict_uncertainty(dataset)\n",
    "print(f\"SEI model:\\nThe predicted LUMO energy (eV) are: {predictions[:,0]}\\n\"\n",
    "      f\"The predicted (100) interaction energy (eV) are {predictions[:,1]}\\n\"\n",
    "      f\"The predicted (110) interaction energy (eV) are {predictions[:,2]}\\n\"\n",
    "      f\"The predicted (111) interaction energy (eV) are {predictions[:,3]}\\n\")\n",
    "predictions, uncertainty = LL_model.predict_uncertainty(dataset)\n",
    "print(f\"LL model:\\nThe predicted LUMO energy (eV) are: {predictions[:,0]}\\n\"\n",
    "      f\"The predicted (100) interaction energy (eV) are {predictions[:,1]}\\n\"\n",
    "      f\"The predicted (110) interaction energy (eV) are {predictions[:,2]}\\n\"\n",
    "      f\"The predicted (111) interaction energy (eV) are {predictions[:,3]}\\n\")"
   ]
  },
  {
   "cell_type": "markdown",
   "metadata": {},
   "source": [
    "Visualize the molecule by drawing its structure"
   ]
  },
  {
   "cell_type": "code",
   "execution_count": null,
   "metadata": {},
   "outputs": [],
   "source": [
    "from IPython.display import SVG, display\n",
    "from rdkit import Chem\n",
    "from rdkit.Chem import rdDepictor\n",
    "from rdkit.Chem.Draw import rdMolDraw2D\n",
    "from rdkit.Chem.Draw.MolDrawing import DrawingOptions\n",
    "\n",
    "for s in smiles:\n",
    "    mol = Chem.MolFromSmiles(s)\n",
    "    rdDepictor.Compute2DCoords(mol)  # for generating conformer ID\n",
    "    # create a drawer container\n",
    "    drawer = rdMolDraw2D.MolDraw2DSVG(300, 300)\n",
    "    # define drawer options\n",
    "    drawer.drawOptions().updateAtomPalette({k: (0, 0, 0) for k in DrawingOptions.elemDict.keys()})\n",
    "    drawer.SetLineWidth(2)\n",
    "    drawer.SetFontSize(1.0)\n",
    "    drawer.DrawMolecule(mol)\n",
    "    drawer.FinishDrawing()\n",
    "    # generate and write the svg strings\n",
    "    svg = drawer.GetDrawingText().replace('svg:', '')\n",
    "    display(SVG(svg))"
   ]
  }
 ],
 "metadata": {
  "kernelspec": {
   "display_name": "Python 3",
   "language": "python",
   "name": "python3"
  },
  "language_info": {
   "codemirror_mode": {
    "name": "ipython",
    "version": 3
   },
   "file_extension": ".py",
   "mimetype": "text/x-python",
   "name": "python",
   "nbconvert_exporter": "python",
   "pygments_lexer": "ipython3",
   "version": "3.9.1"
  },
  "orig_nbformat": 4
 },
 "nbformat": 4,
 "nbformat_minor": 2
}
