{
 "cells": [
  {
   "cell_type": "markdown",
   "metadata": {},
   "source": [
    "# Usage of trained models for prediction of potential additive properties\n",
    "Import relevant libraries"
   ]
  },
  {
   "cell_type": "code",
   "execution_count": 1,
   "metadata": {},
   "outputs": [
    {
     "name": "stderr",
     "output_type": "stream",
     "text": [
      "Skipped loading some Pytorch utilities, missing a dependency. No module named 'torch'\n"
     ]
    },
    {
     "name": "stdout",
     "output_type": "stream",
     "text": [
      "This module requires PyTorch to be installed.\n"
     ]
    },
    {
     "name": "stderr",
     "output_type": "stream",
     "text": [
      "No normalization for SPS. Feature removed!\n",
      "No normalization for AvgIpc. Feature removed!\n",
      "2024-10-15 10:30:44.523293: I tensorflow/core/util/port.cc:111] oneDNN custom operations are on. You may see slightly different numerical results due to floating-point round-off errors from different computation orders. To turn them off, set the environment variable `TF_ENABLE_ONEDNN_OPTS=0`.\n",
      "2024-10-15 10:30:44.703558: E tensorflow/compiler/xla/stream_executor/cuda/cuda_dnn.cc:9342] Unable to register cuDNN factory: Attempting to register factory for plugin cuDNN when one has already been registered\n",
      "2024-10-15 10:30:44.703605: E tensorflow/compiler/xla/stream_executor/cuda/cuda_fft.cc:609] Unable to register cuFFT factory: Attempting to register factory for plugin cuFFT when one has already been registered\n",
      "2024-10-15 10:30:44.704491: E tensorflow/compiler/xla/stream_executor/cuda/cuda_blas.cc:1518] Unable to register cuBLAS factory: Attempting to register factory for plugin cuBLAS when one has already been registered\n",
      "2024-10-15 10:30:44.781720: I tensorflow/core/platform/cpu_feature_guard.cc:182] This TensorFlow binary is optimized to use available CPU instructions in performance-critical operations.\n",
      "To enable the following instructions: AVX2 AVX_VNNI FMA, in other operations, rebuild TensorFlow with the appropriate compiler flags.\n",
      "Skipped loading some PyTorch models, missing a dependency. No module named 'torch'\n",
      "No module named 'torch'\n",
      "Skipped loading modules with pytorch-geometric dependency, missing a dependency. No module named 'torch'\n",
      "Skipped loading modules with pytorch-lightning dependency, missing a dependency. No module named 'torch'\n",
      "Skipped loading some Jax models, missing a dependency. No module named 'haiku'\n"
     ]
    }
   ],
   "source": [
    "from bayesian_optimization.MyGraphConvModel import MyGraphConvModel # customized GraphConvModel\n",
    "import deepchem as dc"
   ]
  },
  {
   "cell_type": "markdown",
   "metadata": {},
   "source": [
    "Restore models from curently saved folders"
   ]
  },
  {
   "cell_type": "code",
   "execution_count": 2,
   "metadata": {},
   "outputs": [
    {
     "name": "stderr",
     "output_type": "stream",
     "text": [
      "2024-10-15 10:30:50.762118: I tensorflow/compiler/xla/stream_executor/cuda/cuda_gpu_executor.cc:894] successful NUMA node read from SysFS had negative value (-1), but there must be at least one NUMA node, so returning NUMA node zero. See more at https://github.com/torvalds/linux/blob/v6.0/Documentation/ABI/testing/sysfs-bus-pci#L344-L355\n",
      "2024-10-15 10:30:50.776687: I tensorflow/compiler/xla/stream_executor/cuda/cuda_gpu_executor.cc:894] successful NUMA node read from SysFS had negative value (-1), but there must be at least one NUMA node, so returning NUMA node zero. See more at https://github.com/torvalds/linux/blob/v6.0/Documentation/ABI/testing/sysfs-bus-pci#L344-L355\n",
      "2024-10-15 10:30:50.776836: I tensorflow/compiler/xla/stream_executor/cuda/cuda_gpu_executor.cc:894] successful NUMA node read from SysFS had negative value (-1), but there must be at least one NUMA node, so returning NUMA node zero. See more at https://github.com/torvalds/linux/blob/v6.0/Documentation/ABI/testing/sysfs-bus-pci#L344-L355\n",
      "2024-10-15 10:30:50.778229: I tensorflow/compiler/xla/stream_executor/cuda/cuda_gpu_executor.cc:894] successful NUMA node read from SysFS had negative value (-1), but there must be at least one NUMA node, so returning NUMA node zero. See more at https://github.com/torvalds/linux/blob/v6.0/Documentation/ABI/testing/sysfs-bus-pci#L344-L355\n",
      "2024-10-15 10:30:50.778348: I tensorflow/compiler/xla/stream_executor/cuda/cuda_gpu_executor.cc:894] successful NUMA node read from SysFS had negative value (-1), but there must be at least one NUMA node, so returning NUMA node zero. See more at https://github.com/torvalds/linux/blob/v6.0/Documentation/ABI/testing/sysfs-bus-pci#L344-L355\n",
      "2024-10-15 10:30:50.778431: I tensorflow/compiler/xla/stream_executor/cuda/cuda_gpu_executor.cc:894] successful NUMA node read from SysFS had negative value (-1), but there must be at least one NUMA node, so returning NUMA node zero. See more at https://github.com/torvalds/linux/blob/v6.0/Documentation/ABI/testing/sysfs-bus-pci#L344-L355\n",
      "2024-10-15 10:30:50.815893: I tensorflow/compiler/xla/stream_executor/cuda/cuda_gpu_executor.cc:894] successful NUMA node read from SysFS had negative value (-1), but there must be at least one NUMA node, so returning NUMA node zero. See more at https://github.com/torvalds/linux/blob/v6.0/Documentation/ABI/testing/sysfs-bus-pci#L344-L355\n",
      "2024-10-15 10:30:50.815987: I tensorflow/compiler/xla/stream_executor/cuda/cuda_gpu_executor.cc:894] successful NUMA node read from SysFS had negative value (-1), but there must be at least one NUMA node, so returning NUMA node zero. See more at https://github.com/torvalds/linux/blob/v6.0/Documentation/ABI/testing/sysfs-bus-pci#L344-L355\n",
      "2024-10-15 10:30:50.816046: I tensorflow/compiler/xla/stream_executor/cuda/cuda_gpu_executor.cc:894] successful NUMA node read from SysFS had negative value (-1), but there must be at least one NUMA node, so returning NUMA node zero. See more at https://github.com/torvalds/linux/blob/v6.0/Documentation/ABI/testing/sysfs-bus-pci#L344-L355\n",
      "2024-10-15 10:30:50.816092: I tensorflow/core/common_runtime/gpu/gpu_device.cc:1886] Created device /job:localhost/replica:0/task:0/device:GPU:0 with 8839 MB memory:  -> device: 0, name: NVIDIA GeForce RTX 4070, pci bus id: 0000:01:00.0, compute capability: 8.9\n"
     ]
    }
   ],
   "source": [
    "SEI_model = MyGraphConvModel(n_tasks=4, graph_conv_layers=[465, 465], dense_layers=[342, 342, 342], dropout=0.016595, \\\n",
    "learning_rate=0.0018738, uncertainty=True, model_dir=\"final_SEI_model\")\n",
    "SEI_model.restore()\n",
    "\n",
    "LL_model = MyGraphConvModel(n_tasks=4, graph_conv_layers=[545, 545], dense_layers=[562, 562, 562, 562], dropout=0.030050724302585315, \\\n",
    "learning_rate=0.0006959499230450821, uncertainty=True, model_dir=\"final_LL_model\")\n",
    "LL_model.restore()"
   ]
  },
  {
   "cell_type": "markdown",
   "metadata": {},
   "source": [
    "Use the models to make predictions"
   ]
  },
  {
   "cell_type": "code",
   "execution_count": 3,
   "metadata": {},
   "outputs": [
    {
     "name": "stderr",
     "output_type": "stream",
     "text": [
      "2024-10-15 10:30:55.609830: I tensorflow/tsl/platform/default/subprocess.cc:304] Start cannot spawn child process: No such file or directory\n"
     ]
    },
    {
     "name": "stdout",
     "output_type": "stream",
     "text": [
      "SEI model:\n",
      "The predicted LUMO energy (eV) are: [-2.2518635  -0.56759053]\n",
      "The predicted (100) interaction energy (eV) are [-10.363928   -4.0133967]\n",
      "The predicted (110) interaction energy (eV) are [-10.778164   -3.8963735]\n",
      "The predicted (111) interaction energy (eV) are [-7.547854 -4.983596]\n",
      "\n",
      "LL model:\n",
      "The predicted LUMO energy (eV) are: [-1.9368743  1.6428459]\n",
      "The predicted (100) interaction energy (eV) are [-7.6606364 -3.920909 ]\n",
      "The predicted (110) interaction energy (eV) are [-8.764194  -3.5770113]\n",
      "The predicted (111) interaction energy (eV) are [-7.204398  -5.4094276]\n",
      "\n"
     ]
    }
   ],
   "source": [
    "smiles = [\"FC(F)(F)C(=O)CC(=O)C(F)(F)F\", \"CS(=O)(=O)C\"]\n",
    "featurizer=dc.feat.ConvMolFeaturizer()\n",
    "loader = dc.data.InMemoryLoader(tasks=[None], featurizer=featurizer)\n",
    "dataset = loader.create_dataset(smiles)\n",
    "predictions, uncertainty = SEI_model.predict_uncertainty(dataset)\n",
    "print(f\"SEI model:\\nThe predicted LUMO energy (eV) are: {predictions[:,0]}\\n\"\n",
    "      f\"The predicted (100) interaction energy (eV) are {predictions[:,1]}\\n\"\n",
    "      f\"The predicted (110) interaction energy (eV) are {predictions[:,2]}\\n\"\n",
    "      f\"The predicted (111) interaction energy (eV) are {predictions[:,3]}\\n\")\n",
    "predictions, uncertainty = LL_model.predict_uncertainty(dataset)\n",
    "print(f\"LL model:\\nThe predicted LUMO energy (eV) are: {predictions[:,0]}\\n\"\n",
    "      f\"The predicted (100) interaction energy (eV) are {predictions[:,1]}\\n\"\n",
    "      f\"The predicted (110) interaction energy (eV) are {predictions[:,2]}\\n\"\n",
    "      f\"The predicted (111) interaction energy (eV) are {predictions[:,3]}\\n\")"
   ]
  },
  {
   "cell_type": "markdown",
   "metadata": {},
   "source": [
    "Visualize the molecule by drawing its structure"
   ]
  },
  {
   "cell_type": "code",
   "execution_count": 4,
   "metadata": {},
   "outputs": [
    {
     "name": "stderr",
     "output_type": "stream",
     "text": [
      "[10:31:36] The new font size 1 is below the current minimum (6).\n"
     ]
    },
    {
     "data": {
      "image/svg+xml": [
       "<svg xmlns=\"http://www.w3.org/2000/svg\" xmlns:rdkit=\"http://www.rdkit.org/xml\" xmlns:xlink=\"http://www.w3.org/1999/xlink\" version=\"1.1\" baseProfile=\"full\" xml:space=\"preserve\" width=\"300px\" height=\"300px\" viewBox=\"0 0 300 300\">\n",
       "<!-- END OF HEADER -->\n",
       "<rect style=\"opacity:1.0;fill:#FFFFFF;stroke:none\" width=\"300.0\" height=\"300.0\" x=\"0.0\" y=\"0.0\"> </rect>\n",
       "<path class=\"bond-0 atom-0 atom-1\" d=\"M 274.9,187.8 L 237.2,166.0\" style=\"fill:none;fill-rule:evenodd;stroke:#000000;stroke-width:2.0px;stroke-linecap:butt;stroke-linejoin:miter;stroke-opacity:1\"/>\n",
       "<path class=\"bond-1 atom-1 atom-2\" d=\"M 237.2,166.0 L 257.3,131.2\" style=\"fill:none;fill-rule:evenodd;stroke:#000000;stroke-width:2.0px;stroke-linecap:butt;stroke-linejoin:miter;stroke-opacity:1\"/>\n",
       "<path class=\"bond-2 atom-1 atom-3\" d=\"M 237.2,166.0 L 217.1,200.8\" style=\"fill:none;fill-rule:evenodd;stroke:#000000;stroke-width:2.0px;stroke-linecap:butt;stroke-linejoin:miter;stroke-opacity:1\"/>\n",
       "<path class=\"bond-3 atom-1 atom-4\" d=\"M 237.2,166.0 L 193.6,140.8\" style=\"fill:none;fill-rule:evenodd;stroke:#000000;stroke-width:2.0px;stroke-linecap:butt;stroke-linejoin:miter;stroke-opacity:1\"/>\n",
       "<path class=\"bond-4 atom-4 atom-5\" d=\"M 197.4,143.0 L 197.4,99.6\" style=\"fill:none;fill-rule:evenodd;stroke:#000000;stroke-width:2.0px;stroke-linecap:butt;stroke-linejoin:miter;stroke-opacity:1\"/>\n",
       "<path class=\"bond-4 atom-4 atom-5\" d=\"M 189.8,143.0 L 189.8,99.6\" style=\"fill:none;fill-rule:evenodd;stroke:#000000;stroke-width:2.0px;stroke-linecap:butt;stroke-linejoin:miter;stroke-opacity:1\"/>\n",
       "<path class=\"bond-5 atom-4 atom-6\" d=\"M 193.6,140.8 L 150.0,166.0\" style=\"fill:none;fill-rule:evenodd;stroke:#000000;stroke-width:2.0px;stroke-linecap:butt;stroke-linejoin:miter;stroke-opacity:1\"/>\n",
       "<path class=\"bond-6 atom-6 atom-7\" d=\"M 150.0,166.0 L 106.4,140.8\" style=\"fill:none;fill-rule:evenodd;stroke:#000000;stroke-width:2.0px;stroke-linecap:butt;stroke-linejoin:miter;stroke-opacity:1\"/>\n",
       "<path class=\"bond-7 atom-7 atom-8\" d=\"M 110.2,143.0 L 110.2,99.6\" style=\"fill:none;fill-rule:evenodd;stroke:#000000;stroke-width:2.0px;stroke-linecap:butt;stroke-linejoin:miter;stroke-opacity:1\"/>\n",
       "<path class=\"bond-7 atom-7 atom-8\" d=\"M 102.6,143.0 L 102.6,99.6\" style=\"fill:none;fill-rule:evenodd;stroke:#000000;stroke-width:2.0px;stroke-linecap:butt;stroke-linejoin:miter;stroke-opacity:1\"/>\n",
       "<path class=\"bond-8 atom-7 atom-9\" d=\"M 106.4,140.8 L 62.8,166.0\" style=\"fill:none;fill-rule:evenodd;stroke:#000000;stroke-width:2.0px;stroke-linecap:butt;stroke-linejoin:miter;stroke-opacity:1\"/>\n",
       "<path class=\"bond-9 atom-9 atom-10\" d=\"M 62.8,166.0 L 25.1,187.8\" style=\"fill:none;fill-rule:evenodd;stroke:#000000;stroke-width:2.0px;stroke-linecap:butt;stroke-linejoin:miter;stroke-opacity:1\"/>\n",
       "<path class=\"bond-10 atom-9 atom-11\" d=\"M 62.8,166.0 L 42.7,131.2\" style=\"fill:none;fill-rule:evenodd;stroke:#000000;stroke-width:2.0px;stroke-linecap:butt;stroke-linejoin:miter;stroke-opacity:1\"/>\n",
       "<path class=\"bond-11 atom-9 atom-12\" d=\"M 62.8,166.0 L 82.9,200.8\" style=\"fill:none;fill-rule:evenodd;stroke:#000000;stroke-width:2.0px;stroke-linecap:butt;stroke-linejoin:miter;stroke-opacity:1\"/>\n",
       "<path d=\"M 195.8,142.1 L 193.6,140.8 L 191.4,142.1\" style=\"fill:none;stroke:#000000;stroke-width:2.0px;stroke-linecap:butt;stroke-linejoin:miter;stroke-opacity:1;\"/>\n",
       "<path d=\"M 152.2,164.7 L 150.0,166.0 L 147.8,164.7\" style=\"fill:none;stroke:#000000;stroke-width:2.0px;stroke-linecap:butt;stroke-linejoin:miter;stroke-opacity:1;\"/>\n",
       "<path d=\"M 108.6,142.1 L 106.4,140.8 L 104.2,142.1\" style=\"fill:none;stroke:#000000;stroke-width:2.0px;stroke-linecap:butt;stroke-linejoin:miter;stroke-opacity:1;\"/>\n",
       "<path class=\"atom-0\" d=\"M 276.5 184.0 L 285.0 184.0 L 285.0 185.7 L 278.4 185.7 L 278.4 190.0 L 284.3 190.0 L 284.3 191.6 L 278.4 191.6 L 278.4 198.3 L 276.5 198.3 L 276.5 184.0 \" fill=\"#000000\"/>\n",
       "<path class=\"atom-2\" d=\"M 258.1 115.3 L 266.6 115.3 L 266.6 116.9 L 260.0 116.9 L 260.0 121.2 L 265.9 121.2 L 265.9 122.9 L 260.0 122.9 L 260.0 129.5 L 258.1 129.5 L 258.1 115.3 \" fill=\"#000000\"/>\n",
       "<path class=\"atom-3\" d=\"M 207.8 202.5 L 216.2 202.5 L 216.2 204.1 L 209.7 204.1 L 209.7 208.4 L 215.5 208.4 L 215.5 210.1 L 209.7 210.1 L 209.7 216.7 L 207.8 216.7 L 207.8 202.5 \" fill=\"#000000\"/>\n",
       "<path class=\"atom-5\" d=\"M 187.0 90.5 Q 187.0 87.1, 188.7 85.2 Q 190.4 83.3, 193.6 83.3 Q 196.7 83.3, 198.4 85.2 Q 200.1 87.1, 200.1 90.5 Q 200.1 94.0, 198.4 96.0 Q 196.7 97.9, 193.6 97.9 Q 190.4 97.9, 188.7 96.0 Q 187.0 94.0, 187.0 90.5 M 193.6 96.3 Q 195.8 96.3, 196.9 94.9 Q 198.1 93.4, 198.1 90.5 Q 198.1 87.7, 196.9 86.3 Q 195.8 84.9, 193.6 84.9 Q 191.4 84.9, 190.2 86.3 Q 189.1 87.7, 189.1 90.5 Q 189.1 93.4, 190.2 94.9 Q 191.4 96.3, 193.6 96.3 \" fill=\"#000000\"/>\n",
       "<path class=\"atom-8\" d=\"M 99.9 90.5 Q 99.9 87.1, 101.6 85.2 Q 103.3 83.3, 106.4 83.3 Q 109.6 83.3, 111.3 85.2 Q 113.0 87.1, 113.0 90.5 Q 113.0 94.0, 111.2 96.0 Q 109.5 97.9, 106.4 97.9 Q 103.3 97.9, 101.6 96.0 Q 99.9 94.0, 99.9 90.5 M 106.4 96.3 Q 108.6 96.3, 109.8 94.9 Q 110.9 93.4, 110.9 90.5 Q 110.9 87.7, 109.8 86.3 Q 108.6 84.9, 106.4 84.9 Q 104.2 84.9, 103.1 86.3 Q 101.9 87.7, 101.9 90.5 Q 101.9 93.4, 103.1 94.9 Q 104.2 96.3, 106.4 96.3 \" fill=\"#000000\"/>\n",
       "<path class=\"atom-10\" d=\"M 15.0 184.0 L 23.5 184.0 L 23.5 185.7 L 16.9 185.7 L 16.9 190.0 L 22.8 190.0 L 22.8 191.6 L 16.9 191.6 L 16.9 198.3 L 15.0 198.3 L 15.0 184.0 \" fill=\"#000000\"/>\n",
       "<path class=\"atom-11\" d=\"M 33.4 115.3 L 41.9 115.3 L 41.9 116.9 L 35.3 116.9 L 35.3 121.2 L 41.2 121.2 L 41.2 122.9 L 35.3 122.9 L 35.3 129.5 L 33.4 129.5 L 33.4 115.3 \" fill=\"#000000\"/>\n",
       "<path class=\"atom-12\" d=\"M 83.8 202.5 L 92.2 202.5 L 92.2 204.1 L 85.7 204.1 L 85.7 208.4 L 91.5 208.4 L 91.5 210.1 L 85.7 210.1 L 85.7 216.7 L 83.8 216.7 L 83.8 202.5 \" fill=\"#000000\"/>\n",
       "</svg>"
      ],
      "text/plain": [
       "<IPython.core.display.SVG object>"
      ]
     },
     "metadata": {},
     "output_type": "display_data"
    },
    {
     "name": "stderr",
     "output_type": "stream",
     "text": [
      "[10:31:36] The new font size 1 is below the current minimum (6).\n"
     ]
    },
    {
     "data": {
      "image/svg+xml": [
       "<svg xmlns=\"http://www.w3.org/2000/svg\" xmlns:rdkit=\"http://www.rdkit.org/xml\" xmlns:xlink=\"http://www.w3.org/1999/xlink\" version=\"1.1\" baseProfile=\"full\" xml:space=\"preserve\" width=\"300px\" height=\"300px\" viewBox=\"0 0 300 300\">\n",
       "<!-- END OF HEADER -->\n",
       "<rect style=\"opacity:1.0;fill:#FFFFFF;stroke:none\" width=\"300.0\" height=\"300.0\" x=\"0.0\" y=\"0.0\"> </rect>\n",
       "<path class=\"bond-0 atom-0 atom-1\" d=\"M 34.4,216.5 L 136.5,157.6\" style=\"fill:none;fill-rule:evenodd;stroke:#000000;stroke-width:2.0px;stroke-linecap:butt;stroke-linejoin:miter;stroke-opacity:1\"/>\n",
       "<path class=\"bond-1 atom-1 atom-2\" d=\"M 152.5,174.1 L 197.3,251.7\" style=\"fill:none;fill-rule:evenodd;stroke:#000000;stroke-width:2.0px;stroke-linecap:butt;stroke-linejoin:miter;stroke-opacity:1\"/>\n",
       "<path class=\"bond-1 atom-1 atom-2\" d=\"M 169.8,164.1 L 214.6,241.6\" style=\"fill:none;fill-rule:evenodd;stroke:#000000;stroke-width:2.0px;stroke-linecap:butt;stroke-linejoin:miter;stroke-opacity:1\"/>\n",
       "<path class=\"bond-2 atom-1 atom-3\" d=\"M 148.0,126.3 L 103.0,48.3\" style=\"fill:none;fill-rule:evenodd;stroke:#000000;stroke-width:2.0px;stroke-linecap:butt;stroke-linejoin:miter;stroke-opacity:1\"/>\n",
       "<path class=\"bond-2 atom-1 atom-3\" d=\"M 130.6,136.3 L 85.7,58.4\" style=\"fill:none;fill-rule:evenodd;stroke:#000000;stroke-width:2.0px;stroke-linecap:butt;stroke-linejoin:miter;stroke-opacity:1\"/>\n",
       "<path class=\"bond-3 atom-1 atom-4\" d=\"M 163.5,142.0 L 265.6,83.0\" style=\"fill:none;fill-rule:evenodd;stroke:#000000;stroke-width:2.0px;stroke-linecap:butt;stroke-linejoin:miter;stroke-opacity:1\"/>\n",
       "<path class=\"atom-1\" d=\"M 142.0 159.5 Q 142.3 159.6, 143.6 160.2 Q 145.0 160.7, 146.4 161.1 Q 147.9 161.4, 149.3 161.4 Q 152.0 161.4, 153.6 160.1 Q 155.1 158.8, 155.1 156.5 Q 155.1 155.0, 154.3 154.0 Q 153.6 153.1, 152.4 152.5 Q 151.2 152.0, 149.2 151.4 Q 146.6 150.7, 145.1 149.9 Q 143.6 149.2, 142.6 147.7 Q 141.5 146.2, 141.5 143.6 Q 141.5 140.1, 143.9 137.9 Q 146.4 135.7, 151.2 135.7 Q 154.4 135.7, 158.2 137.2 L 157.2 140.3 Q 153.8 138.9, 151.3 138.9 Q 148.5 138.9, 147.0 140.1 Q 145.5 141.2, 145.5 143.1 Q 145.5 144.7, 146.3 145.6 Q 147.1 146.5, 148.2 147.0 Q 149.4 147.5, 151.3 148.1 Q 153.8 148.9, 155.4 149.7 Q 156.9 150.5, 158.0 152.2 Q 159.1 153.8, 159.1 156.5 Q 159.1 160.5, 156.4 162.6 Q 153.8 164.7, 149.5 164.7 Q 147.0 164.7, 145.0 164.1 Q 143.2 163.6, 140.9 162.7 L 142.0 159.5 \" fill=\"#000000\"/>\n",
       "<path class=\"atom-2\" d=\"M 203.7 265.5 Q 203.7 258.7, 207.1 254.9 Q 210.5 251.1, 216.7 251.1 Q 223.0 251.1, 226.4 254.9 Q 229.7 258.7, 229.7 265.5 Q 229.7 272.3, 226.3 276.3 Q 222.9 280.1, 216.7 280.1 Q 210.5 280.1, 207.1 276.3 Q 203.7 272.4, 203.7 265.5 M 216.7 276.9 Q 221.1 276.9, 223.4 274.1 Q 225.7 271.1, 225.7 265.5 Q 225.7 259.9, 223.4 257.1 Q 221.1 254.3, 216.7 254.3 Q 212.4 254.3, 210.1 257.1 Q 207.7 259.9, 207.7 265.5 Q 207.7 271.2, 210.1 274.1 Q 212.4 276.9, 216.7 276.9 \" fill=\"#000000\"/>\n",
       "<path class=\"atom-3\" d=\"M 70.3 34.3 Q 70.3 27.5, 73.6 23.7 Q 77.0 19.9, 83.3 19.9 Q 89.5 19.9, 92.9 23.7 Q 96.3 27.5, 96.3 34.3 Q 96.3 41.1, 92.9 45.1 Q 89.5 48.9, 83.3 48.9 Q 77.0 48.9, 73.6 45.1 Q 70.3 41.2, 70.3 34.3 M 83.3 45.7 Q 87.6 45.7, 89.9 42.9 Q 92.3 39.9, 92.3 34.3 Q 92.3 28.7, 89.9 25.9 Q 87.6 23.1, 83.3 23.1 Q 78.9 23.1, 76.6 25.9 Q 74.3 28.7, 74.3 34.3 Q 74.3 40.0, 76.6 42.9 Q 78.9 45.7, 83.3 45.7 \" fill=\"#000000\"/>\n",
       "</svg>"
      ],
      "text/plain": [
       "<IPython.core.display.SVG object>"
      ]
     },
     "metadata": {},
     "output_type": "display_data"
    }
   ],
   "source": [
    "from IPython.display import SVG, display\n",
    "from rdkit import Chem\n",
    "from rdkit.Chem import rdDepictor\n",
    "from rdkit.Chem.Draw import rdMolDraw2D\n",
    "from rdkit.Chem.Draw.MolDrawing import DrawingOptions\n",
    "\n",
    "for s in smiles:\n",
    "    mol = Chem.MolFromSmiles(s)\n",
    "    rdDepictor.Compute2DCoords(mol)  # for generating conformer ID\n",
    "    # create a drawer container\n",
    "    drawer = rdMolDraw2D.MolDraw2DSVG(300, 300)\n",
    "    # define drawer options\n",
    "    drawer.drawOptions().updateAtomPalette({k: (0, 0, 0) for k in DrawingOptions.elemDict.keys()})\n",
    "    drawer.SetLineWidth(2)\n",
    "    drawer.SetFontSize(1.0)\n",
    "    drawer.DrawMolecule(mol)\n",
    "    drawer.FinishDrawing()\n",
    "    # generate and write the svg strings\n",
    "    svg = drawer.GetDrawingText().replace('svg:', '')\n",
    "    display(SVG(svg))"
   ]
  }
 ],
 "metadata": {
  "kernelspec": {
   "display_name": "Python 3",
   "language": "python",
   "name": "python3"
  },
  "language_info": {
   "codemirror_mode": {
    "name": "ipython",
    "version": 3
   },
   "file_extension": ".py",
   "mimetype": "text/x-python",
   "name": "python",
   "nbconvert_exporter": "python",
   "pygments_lexer": "ipython3",
   "version": "3.9.19"
  },
  "orig_nbformat": 4
 },
 "nbformat": 4,
 "nbformat_minor": 2
}
